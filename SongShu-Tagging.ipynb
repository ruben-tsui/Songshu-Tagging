{
 "cells": [
  {
   "cell_type": "markdown",
   "metadata": {
    "colab_type": "text",
    "id": "Rb6_NbIb7i0q"
   },
   "source": [
    "### SongShu --Extraction of faimly relationships from bookmarks"
   ]
  },
  {
   "cell_type": "markdown",
   "metadata": {},
   "source": [
    "The purpose of this script is to create a network of family relationships"
   ]
  },
  {
   "cell_type": "code",
   "execution_count": 1,
   "metadata": {
    "colab": {},
    "colab_type": "code",
    "id": "VZVgJhGL7i0n"
   },
   "outputs": [],
   "source": [
    "import json\n",
    "from SongShu import SongShu\n",
    "import re\n",
    "import pandas as pd\n",
    "from Surname import Surname"
   ]
  },
  {
   "cell_type": "code",
   "execution_count": 2,
   "metadata": {
    "colab": {},
    "colab_type": "code",
    "id": "TrRyrgdR7i0r",
    "outputId": "de1a17de-313d-468a-db2d-5c8d04fce614"
   },
   "outputs": [
    {
     "name": "stderr",
     "output_type": "stream",
     "text": [
      "INFO:root:Stop at loading ./data/medievalHistories/Songshu/SongShu_0969.html.\n",
      "INFO:root:Total length of the data is 969.\n",
      "ERROR:root:[Error] SongShu_rare_char.json does not exist\n",
      "\n",
      "            try to run these lines: \n",
      "            \t>> self.extract_rare_chars()\n",
      "            \t>> self.write_rare_chars()\n",
      "\n",
      "INFO:root:Remove the new lines added by the page dividers, connect the paragraphs before and after the new lines.\n",
      "INFO:root:Remove 標註, page number, and page dividers from the tree structure.\n",
      "WARNING:root:Not the right indent.史／正史／宋書／志　凡三十卷／卷二十二　志第十二　樂四(P.625)..[底本：宋元明三朝遞修本]\n",
      "WARNING:root:Not the right indent.史／正史／宋書／志　凡三十卷／卷二十二　志第十二　樂四／魏鼓吹曲十二篇　繆襲／初之平曲(P.644)..[底本：宋元明三朝遞修本]\n",
      "WARNING:root:Not the right indent.史／正史／宋書／志　凡三十卷／卷二十二　志第十二　樂四／魏鼓吹曲十二篇　繆襲／戰滎陽曲(P.644)..[底本：宋元明三朝遞修本]\n",
      "WARNING:root:Not the right indent.史／正史／宋書／志　凡三十卷／卷二十二　志第十二　樂四／魏鼓吹曲十二篇　繆襲／獲呂布曲(P.644)..[底本：宋元明三朝遞修本]\n",
      "WARNING:root:Not the right indent.史／正史／宋書／志　凡三十卷／卷二十二　志第十二　樂四／魏鼓吹曲十二篇　繆襲／克官渡曲(P.645)..[底本：宋元明三朝遞修本]\n",
      "WARNING:root:Not the right indent.史／正史／宋書／志　凡三十卷／卷二十二　志第十二　樂四／魏鼓吹曲十二篇　繆襲／舊邦曲(P.645)..[底本：宋元明三朝遞修本]\n",
      "WARNING:root:Not the right indent.史／正史／宋書／志　凡三十卷／卷二十二　志第十二　樂四／魏鼓吹曲十二篇　繆襲／定武功曲(P.645)..[底本：宋元明三朝遞修本]\n",
      "WARNING:root:Not the right indent.史／正史／宋書／志　凡三十卷／卷二十二　志第十二　樂四／魏鼓吹曲十二篇　繆襲／屠柳城曲(P.646)..[底本：宋元明三朝遞修本]\n",
      "WARNING:root:Not the right indent.史／正史／宋書／志　凡三十卷／卷二十二　志第十二　樂四／魏鼓吹曲十二篇　繆襲／平南荊曲(P.646)..[底本：宋元明三朝遞修本]\n",
      "WARNING:root:Not the right indent.史／正史／宋書／志　凡三十卷／卷二十二　志第十二　樂四／魏鼓吹曲十二篇　繆襲／平關中曲(P.646)..[底本：宋元明三朝遞修本]\n",
      "WARNING:root:Not the right indent.史／正史／宋書／志　凡三十卷／卷二十二　志第十二　樂四／魏鼓吹曲十二篇　繆襲／應帝期曲(P.646)..[底本：宋元明三朝遞修本]\n",
      "WARNING:root:Not the right indent.史／正史／宋書／志　凡三十卷／卷二十二　志第十二　樂四／魏鼓吹曲十二篇　繆襲／邕熙曲(P.647)..[底本：宋元明三朝遞修本]\n",
      "WARNING:root:Not the right indent.史／正史／宋書／志　凡三十卷／卷二十二　志第十二　樂四／魏鼓吹曲十二篇　繆襲／太和曲(P.647)..[底本：宋元明三朝遞修本]\n",
      "WARNING:root:Not the right indent.史／正史／宋書／志　凡三十卷／卷二十二　志第十二　樂四／吳鼓吹曲十二篇　韋昭／炎精缺曲凡三十句，句三字(P.656)..[底本：宋元明三朝遞修本]\n",
      "WARNING:root:Not the right indent.史／正史／宋書／志　凡三十卷／卷二十二　志第十二　樂四／吳鼓吹曲十二篇　韋昭／漢之季曲凡二十句，其十八句句三字，二句句四字(P.656)..[底本：宋元明三朝遞修本]\n",
      "WARNING:root:Not the right indent.史／正史／宋書／志　凡三十卷／卷二十二　志第十二　樂四／吳鼓吹曲十二篇　韋昭／攄武師曲凡六句，其三句句三字，三句句四字(P.657)..[底本：宋元明三朝遞修本]\n",
      "WARNING:root:Not the right indent.史／正史／宋書／志　凡三十卷／卷二十二　志第十二　樂四／吳鼓吹曲十二篇　韋昭／伐烏林曲凡十八句，其十句句四字，八句句三字(P.657)..[底本：宋元明三朝遞修本]\n",
      "WARNING:root:Not the right indent.史／正史／宋書／志　凡三十卷／卷二十二　志第十二　樂四／吳鼓吹曲十二篇　韋昭／秋風曲凡十五句，其十四句句五字，一句四字(P.657)..[底本：宋元明三朝遞修本]\n",
      "WARNING:root:Not the right indent.史／正史／宋書／志　凡三十卷／卷二十二　志第十二　樂四／吳鼓吹曲十二篇　韋昭／克皖城曲凡十二句，其六句句三字，六句句四字(P.657)..[底本：宋元明三朝遞修本]\n",
      "WARNING:root:Not the right indent.史／正史／宋書／志　凡三十卷／卷二十二　志第十二　樂四／吳鼓吹曲十二篇　韋昭／關背德曲凡二十一句，其八句句四字，二句句六字，七句句五字，四句句三字(P.658)..[底本：宋元明三朝遞修本]\n",
      "WARNING:root:Not the right indent.史／正史／宋書／志　凡三十卷／卷二十二　志第十二　樂四／吳鼓吹曲十二篇　韋昭／通荊門曲凡二十四句，其十七句句五字，四句句三字，三句句四字(P.658)..[底本：宋元明三朝遞修本]\n",
      "WARNING:root:Not the right indent.史／正史／宋書／志　凡三十卷／卷二十二　志第十二　樂四／吳鼓吹曲十二篇　韋昭／章洪德曲凡十句，其八句句三字，二句句四字(P.659)..[底本：宋元明三朝遞修本]\n",
      "WARNING:root:Not the right indent.史／正史／宋書／志　凡三十卷／卷二十二　志第十二　樂四／吳鼓吹曲十二篇　韋昭／從曆數曲凡二十六句，其一句句三字，三句句四字，二十二句句五字，一句六字(P.659)..[底本：宋元明三朝遞修本]\n",
      "WARNING:root:Not the right indent.史／正史／宋書／志　凡三十卷／卷二十二　志第十二　樂四／吳鼓吹曲十二篇　韋昭／承天命曲凡三十四句，其十九句句三字，二句句五字，十三句句四字(P.659)..[底本：宋元明三朝遞修本]\n",
      "WARNING:root:Not the right indent.史／正史／宋書／志　凡三十卷／卷二十二　志第十二　樂四／吳鼓吹曲十二篇　韋昭／玄化曲凡十三句，其五句句五字，二句句三字，三句句四字，三句句七字(P.660)..[底本：宋元明三朝遞修本]\n",
      "WARNING:root:Not the right indent.史／正史／宋書／志　凡三十卷／卷四十　志第三十　百官下／第一品(P.1260)..[底本：宋元明三朝遞修本]\n",
      "WARNING:root:Not the right indent.史／正史／宋書／志　凡三十卷／卷四十　志第三十　百官下／第二品(P.1260)..[底本：宋元明三朝遞修本]\n",
      "WARNING:root:Not the right indent.史／正史／宋書／志　凡三十卷／卷四十　志第三十　百官下／第三品(P.1261)..[底本：宋元明三朝遞修本]\n",
      "WARNING:root:Not the right indent.史／正史／宋書／志　凡三十卷／卷四十　志第三十　百官下／第四品(P.1261)..[底本：宋元明三朝遞修本]\n",
      "WARNING:root:Not the right indent.史／正史／宋書／志　凡三十卷／卷四十　志第三十　百官下／第五品(P.1262)..[底本：宋元明三朝遞修本]\n",
      "WARNING:root:Not the right indent.史／正史／宋書／志　凡三十卷／卷四十　志第三十　百官下／第六品(P.1263)..[底本：宋元明三朝遞修本]\n",
      "WARNING:root:Not the right indent.史／正史／宋書／志　凡三十卷／卷四十　志第三十　百官下／第七品(P.1264)..[底本：宋元明三朝遞修本]\n",
      "WARNING:root:Not the right indent.史／正史／宋書／志　凡三十卷／卷四十　志第三十　百官下／第八品(P.1264)..[底本：宋元明三朝遞修本]\n",
      "WARNING:root:Not the right indent.史／正史／宋書／志　凡三十卷／卷四十　志第三十　百官下／第九品(P.1265)..[底本：宋元明三朝遞修本]\n"
     ]
    }
   ],
   "source": [
    "songshu = SongShu(\"2019-08-08\", \"RGT\")\n",
    "songshu.load_htmls(\"./data/medievalHistories/Songshu/\")\n",
    "songshu.extract_all()\n",
    "songshu.buildDictionaries('./NE_randstr.txt')"
   ]
  },
  {
   "cell_type": "code",
   "execution_count": null,
   "metadata": {},
   "outputs": [],
   "source": [
    "songshu[671]"
   ]
  },
  {
   "cell_type": "code",
   "execution_count": 3,
   "metadata": {},
   "outputs": [
    {
     "data": {
      "text/plain": [
       "'范岫'"
      ]
     },
     "execution_count": 3,
     "metadata": {},
     "output_type": "execute_result"
    }
   ],
   "source": [
    "songshu.RSTR2NE['gMjfzcQoodEjwFY8vAqH24B1zh8DTKydARF3']"
   ]
  },
  {
   "cell_type": "code",
   "execution_count": 5,
   "metadata": {},
   "outputs": [
    {
     "data": {
      "text/plain": [
       "'person'"
      ]
     },
     "execution_count": 5,
     "metadata": {},
     "output_type": "execute_result"
    }
   ],
   "source": [
    "songshu.RSTR2CAT['gMjfzcQoodEjwFY8vAqH24B1zh8DTKydARF3']"
   ]
  },
  {
   "cell_type": "code",
   "execution_count": 5,
   "metadata": {},
   "outputs": [],
   "source": [
    "atext = songshu.tagEncode(songshu.flat_bodies[671].text)"
   ]
  },
  {
   "cell_type": "code",
   "execution_count": 6,
   "metadata": {},
   "outputs": [
    {
     "data": {
      "text/plain": [
       "'\\n\\n史／正史／宋書／列傳\\u3000凡六十卷／卷五十二\\u3000列傳第十二／<person>褚叔度</person>\\u3000長兄秀之\\u3000秀之弟淡之(P.1502)..[底本：<place>宋元</place>明三朝遞修本]\\n\\n\\n<person>褚叔度</person>，<place>河南</place>陽翟人也。曾祖裒，晉<office>太傅</office>。祖歆，<office>祕書監</office>。父爽，<office>金紫光祿大夫</office>。\\n\\n長兄秀之，字長倩，歷<office>大司馬</office>琅邪王<office>從事中郎</office>，<office>黃門侍郎</office>、<person>高祖</person>鎮西<office>長史</office>。秀之妹，恭帝后也，雖晉氏姻戚，而盡心於<person>高祖</person>。遷<office>侍中</office>，出補<office>大司馬</office>右<office>司馬</office>。恭帝即位，為<office>祠部尚書</office>、本州大中正。<person>高祖</person>受命，徙為<office>太常</office>。元嘉元年卒官，時年四十七。\\n\\n秀之弟淡之，字仲源，亦歷顯官，為<person>高祖</person>車騎<office>從事中郎</office>，<office>尚書</office><office>吏部郎</office>，<office>廷尉</office>卿，左<office>衞將軍</office>。<person>高祖</person>受命，為<office>侍中</office>。淡之兄弟並盡忠事<person>高祖</person>，恭帝每生男，輒令方便殺焉，或誘賂內人，或密加毒害，前後非一。及恭帝遜位，居<place>秣陵</place>宮，常懼見禍，與褚后共止一室，慮有酖毒，自煮食於牀前。<person>高祖</person>將殺之，不欲遣人入內，令淡之兄弟視褚后，褚后出別室相見，兵人乃踰垣而入，進藥於恭帝。帝不肯飲，曰：「佛教自殺者不得復人身。」乃以被掩殺之。後<place>會稽郡</place>缺，朝議欲用<person>蔡廓</person>，<person>高祖</person>曰：「彼自是蔡家佳兒，何關人事，可用佛。」佛，淡之小字也。乃以淡之為<place>會稽</place><office>太守</office>。\\n\\n景平二年，<place>富陽</place>縣孫氏聚合門宗，謀為逆亂，其支黨在<place>永興縣</place>，潛相影響。<place>永興</place>令羊恂覺其姦謀，以告淡之，淡之不信，乃以誣人之罪，收縣職局。於是孫<person>法亮</person>號<place>冠軍</place><office>大將軍</office>，與孫道慶等攻沒縣邑，即用<place>富陽</place>令顧粲為令，加<office>輔國將軍</office>。遣偽<office>建威將軍</office>孫道仲、孫公喜、法殺攻<place>永興</place>。<place>永興</place>民灟恭期初與賊同，後反善就羊恂，率吏民拒戰，力少退敗。賊用縣人許祖為令，恂逃伏江<place>唐山</place>中，尋復為賊所得，使還行縣事。賊遂磐據，更相樹立，遙以鄮令<office>司馬</office>文寅為征西<office>大將軍</office>，孫道仲為征西<office>長史</office>，孫<person>道覆</person>為左<office>司馬</office>，與公喜、法殺等建旗鳴鼓，直攻<place>山陰</place>。\\n\\n\\n淡之自假<office>凌江將軍</office>，以<place>山陰</place>令<person>陸邵</person>領<office>司馬</office>，加<office>振武將軍</office>，前<office>員外散騎常侍</office><person>王茂之</person>為<office>長史</office>，前<office>國子博士</office>孔欣、前<office>員外散騎常侍</office>謝芩之並<office>參軍</office>事，召<office>行參軍</office>七十餘人。前鎮西<office>諮議參軍</office><person>孔甯子</person>、<office>左光祿大夫</office>孔季恭子山士在艱中，皆起為將軍。遣隊主陳願、郡議曹掾虞道納二軍過<place>浦陽</place>江。願等戰敗，賊遂摧鋒而前，去城二十餘里。淡之遣<person>陸邵</person>督帶戟公石綝、<office>廣武將軍</office>陸允以水軍拒之，又別遣<office>行參軍</office>灟恭期率步軍與邵合力。淡之率所領出次近郊。恭期等與賊戰於柯亭，大破之，賊走還<place>永興</place>。遣偽寧朔將軍孫倫領五百人攻<place>錢唐</place>，與縣戍軍<office>建武將軍</office>戰於琦，倫敗走還<place>富陽</place>。倫因反善，殺法步帥等十餘人，送首京都。詔遣<office>殿中員外將軍</office>徐卓領千人，<office>右將軍</office><office>彭城王</office>義康遣<office>龍驤將軍</office>丘顯率眾五百東討，<office>司空</office><person>徐羨之</person>版<place>揚州</place><office>主簿</office>沈嗣之為<place>富陽</place>令領五百人，於<place>吳興</place>道東出，並未至而賊平。<place>吳郡</place><office>太守</office><person>江夷</person>輕行之職，停吳一宿，進至<place>富陽</place>，分別善惡，執送願徙賊餘黨數百家於<place>彭城</place>、<person>壽陽</person>、<place>青州</place>諸處。二年，淡之卒，時年四十五。諡曰質子。\\n\\n叔度名與<person>高祖</person>同，故以字行。初為<office>太宰</office>琅邪王<office>參軍</office>，<person>高祖</person><office>車騎參軍事</office>，<office>司徒</office>左西屬，中軍<office>諮議參軍</office>，署<office>中兵</office>，加<office>建威將軍</office>。從伐鮮卑，盡其誠力。<person>盧循</person>攻查浦，叔度力戰有功。循南走，<person>高祖</person>版行<office>廣州刺史</office>，仍除<office>都督</office>交廣二州諸軍事、<office>建威將軍</office>、領<office>平越中郎將</office>、<office>廣州刺史</office>。<person>桓玄</person>族人開山聚眾，謀掩<place>廣州</place>，事覺，叔度悉平之。義熙八年，<person>盧循</person>餘黨劉敬道窘迫，詣<place>交州</place>歸降。<office>交州刺史</office><person>杜慧度</person>以事言統府，叔度以敬道等路窮請命，事非款誠，報使誅之。<person>慧度</person>不加防錄，敬道<place>招集</place>亡命，攻破九真，殺<office>太守</office>杜章民，<person>慧度</person>討平之。叔度輒貶<person>慧度</person>號為奮揚將軍，惡不先上，為有司所糾，詔原之。\\n\\n<person>高祖</person>征<person>劉毅</person>，叔度遣三千人過嶠，<place>荊州</place>平乃還。在任四年，廣營賄貨，家財豐積，坐免官，禁錮終身。還至都，凡諸舊及有一面之款，無不厚加贈遺。尋除<office>太尉</office><office>諮議參軍</office>、<office>相國</office>右<office>司馬</office>。<person>高祖</person>受命，為<office>右衞將軍</office>。<person>高祖</person>以其名家，而能竭盡心力，甚嘉之，乃下詔曰：「夫賞不遺勤，則勞臣增勸；爵必疇庸，故在功咸達。叔度南北征討，常管戎要，西夏不虔，誠著嶺表，可封<place>番禺</place>縣男，食邑四百戶。」尋加<office>散騎常侍</office>。永初三年，出為<office>使持節</office>、監雍梁南北秦四州<place>荊州</place>之<place>南陽</place><place>竟陵</place><place>順陽</place><place>義陽</place><place>新野</place>隨六郡諸軍事、<office>征虜將軍</office>、<office>雍州刺史</office>，領<office>寧蠻校尉</office>、<place>襄陽</place><place>義成</place><office>太守</office>。在任每以清簡致稱。景平二年，卒，時年四十四。\\n\\n子恬之嗣，官至南琅邪<office>太守</office>。恬之卒，子昭嗣。昭卒，子瑄嗣。齊受禪，國除。叔度第二子寂之，<office>著作佐郎</office>，早卒。子曖，尚太祖第六女琅邪貞長公主，<office>太宰</office><office>參軍</office>，亦早卒。\\n\\n\\n\\n\\n'"
      ]
     },
     "execution_count": 6,
     "metadata": {},
     "output_type": "execute_result"
    }
   ],
   "source": [
    "songshu.tagDecode(atext)"
   ]
  },
  {
   "cell_type": "code",
   "execution_count": 132,
   "metadata": {},
   "outputs": [
    {
     "data": {
      "text/plain": [
       "'\\n\\n史／正史／宋書／列傳\\u3000凡六十卷／卷六十四\\u3000列傳第二十四／<person>何承天</person>\\u3000<person>謝元</person>(P.1701)..[底本：<place>宋元</place>明三朝遞修本]\\n\\n<person>何承天</person>，<place>東海</place>郯人也。從祖倫，晉<office>右衞將軍</office>。承天五歲失父，母<person>徐氏</person>，廣之姊也，聰明博學，故承天幼漸訓義，儒史百家，莫不該覽。叔父肹為<place>益陽</place>令，隨肹之官。\\n隆安四年，<office>南蠻校尉</office><person>桓偉</person>命為<office>參軍</office>。時<person>殷仲堪</person>、<person>桓玄</person>等互舉兵以向朝廷，承天懼禍難未已，解職還<place>益陽</place>。義旗初，<place>長沙</place>公<person>陶延</person>壽以為其輔國府<office>參軍</office>，遣通敬於<person>高祖</person>，因除<place>瀏陽</place>令，尋去職還都。<office>撫軍將軍</office><person>劉毅</person>鎮姑孰，版為<office>行參軍</office>。毅嘗出行，而<place>鄢陵縣</place>史陳滿射鳥，箭誤中直帥，雖不傷人，處法棄市。承天議曰：「獄貴情斷，疑則從輕。昔驚漢文帝乘輿馬者，張釋之劾以犯蹕，罪止罰金。何者？明其無心於驚馬也。故不以乘輿之重，加以異制。今滿意在射鳥，非有心<person>於中</person>人。按律過誤傷人，三歲刑，況不傷乎？微罰可也。」出補<place>宛陵</place>令。趙惔為<office>寧蠻校尉</office>、尋陽<office>太守</office>，請為<office>司馬</office>。尋去職。\\n<person>高祖</person>以為<office>太尉</office><office>行參軍</office>。<person>高祖</person>討<person>劉毅</person>，留<person>諸葛長民</person>為監軍。長民密懷異志，<person>劉穆之</person>屏人問承天曰：「公今行濟否云何？」承天曰：「不憂西不時判，別有一慮耳。公昔年自左里還入石頭，甚脫爾，今還，宜加重複。」穆之曰：「非君不聞此言。頃日願<place>丹徒</place>劉郎，恐不復可得也。」除<office>太學博士</office>。義熙十一年，為世子征虜<office>參軍</office>，轉西<office>中郎</office>中軍<office>參軍</office>，<place>錢唐</place>令。<person>高祖</person>在<person>壽陽</person>，宋臺建，召為<office>尚書</office><office>祠部郎</office>，與<person>傅亮</person>共撰朝儀。永初末，補南臺<office>治書侍御史</office>。\\n<person>謝晦</person>鎮<place>江陵</place>，請為南蠻<office>長史</office>。時有尹嘉者，家貧，母熊自以身貼錢，為嘉償責。坐不孝當死。承天議曰：「被府宣令，普議尹嘉大辟事，稱法吏葛滕籤，母告子不孝，欲殺者許之。法云，謂違犯教令，敬恭有虧，父母欲殺，皆許之。其所告惟取信於所求而許之。謹尋事原心，嘉母辭自求質錢，為子還責。嘉雖虧犯教義，而熊無請殺之辭。熊求所以生之而今殺之，非隨所求之謂。始以不孝為劾，終於和賣結刑，倚旁兩端，母子俱罪，滕籤<person>法文</person>，為非其條。嘉所存者大，理在難申，但明教爰發，矜其愚蔽。夫明德慎罰，文王所以恤下；議獄緩死，中孚所以垂化。言情則母為子隱，語敬則禮所不及。今捨乞宥之評，依請殺之條，責敬恭之節，於飢寒之隸，誠非罰疑從輕，寧失有罪之謂也。愚以謂降嘉之死，以普春澤之恩；赦熊之愆，以明子隱之宜。則蒲亭雖陋，可比德於盛明；䐁魚微物，不獨遺於今化。」事未判，值赦並免。\\n晦進號<office>衞將軍</office>，轉<office>諮議參軍</office>，領<office>記室</office>。元嘉三年，晦將見討，其弟<office>黃門郎</office>㬭密信報之，晦問承天曰：「若果爾，卿令我云何？」承天曰：「以王者之重，舉天下以攻一州，大小既殊，逆順又異，境外求全，上計也。其次以腹心領兵戍於<place>義陽</place>，將軍率眾於夏口一戰，若敗，即趨<place>義陽</place>以出北境，其次也。」晦良久曰：「荊楚用武之國，兵力有餘，且當決戰，走不晚也。」使承天造立表檄。晦以<office>湘州刺史</office><person>張邵</person>必不同己，欲遣千人襲之，承天以為邵意趨未可知，不宜便討。時邵兄茂度為<place>益州</place>，與晦素善，故晦止不遣兵。前<office>益州刺史</office><person>蕭摹之</person>、前巴西<office>太守</office><person>劉道產</person>去職還<place>江陵</place>，晦將殺之，承天盡力營救，皆得全免。晦既下，承天留府不從。及<person>到彥之</person>至馬頭，承天自詣歸罪，彥之以其有誠，宥之，使行南蠻府事。\\n七年，彥之北伐，請為右軍<office>錄事</office>。及彥之敗退，承天以才非軍旅，得免刑責。以補<office>尚書</office><office>殿中郎</office>，兼左丞。<place>吳興</place><place>餘杭</place>民薄道舉為劫。制同籍朞親補兵。道舉從弟代公、<person>道生</person>等並為大功親，非應在補讁之例，法以代公等母存為朞親，則子宜隨母補兵。承天議曰：「尋劫制，同籍朞親補兵，大功不在此例。婦人三從，既嫁從夫，夫死從子。今道舉為劫，若其叔尚存，制應補讁，妻子營居，固其宜也。但為劫之時，叔父已沒，代公、<person>道生</person>並是從弟，大功之親，不合補讁。今若以叔母為朞親，令代公隨母補兵，既違大功不讁之制，又失婦人三從之道。由於主者守朞親之文，不辨男女之異，遠嫌畏負，以生此疑，懼非聖朝恤刑之旨。謂代公等母子並宜見原。」故<office>司徒</office>掾<person>孔邈</person>奏事未御，邈已喪殯，議者謂不宜仍用邈名，更以見官奏之。承天又議曰：「既沒之名不合奏者，非有它義，正嫌於近不祥耳。奏事一郤，動經歲時，盛明之世，事從簡易，曲嫌細忌，皆應蕩除。」\\n承天為性剛愎，不能屈意朝右，頗以所長侮同列，不為<office>僕射</office><person>殷景仁</person>所平，出為<place>衡陽</place><office>內史</office>。昔在西與士人多不協，在郡又不公清，為州司所糾，被收繫獄，值赦免。十六年，除<office>著作佐郎</office>，撰國史。承天年已老，而諸佐郎並名家年少，潁川<person>荀伯子</person>謿之，常呼為嬭母。承天曰：「卿當云鳳凰將九子，嬭母何言邪！」尋轉太子<office>率更令</office>，著作如故。\\n時<place>丹陽</place>丁況等久喪不葬，承天議曰：「禮所云還葬，當謂荒儉一時，故許其稱財而不求備。丁況三家，數十年中，葬輒無棺櫬，實由淺情薄恩，同於禽獸者耳。竊以為丁寶等同伍積年，未嘗勸之以義，繩之以法。十六年冬，既無新科，又未申明舊制，有何嚴切，欻然相糾。或由鄰曲分爭，以興此言。如聞在東諸處，此例既多，<place>江西</place><place>淮北</place>尤為不少。若但讁此三人，殆無整肅。開其一端，則互相恐動，里伍縣司，競為姦利。財賂既逞，獄訟必繁，懼虧聖明烹鮮之美。臣愚謂況等三家，且可勿問，因此附定制旨，若民人葬不如法，同伍當即糾言，三年除服之後，不得追相告列，於事為宜。」\\n十九年，立國子學，以本官領<office>國子博士</office>。皇太子講孝經，承天與<office>中庶子</office><person>顏延之</person>同為執經。頃之，遷<office>御史中丞</office>。時索虜侵邊，太祖訪羣臣威戎御遠之略，承天上表曰：\\n伏見北藩上事，虜犯青、兗，天慈降鑑，矜此黎元，博逮羣策，經綸戎政，臣以愚陋，預聞訪及。竊尋獫狁告難，爰自上古，有周之盛，南仲出車，漢氏方隆，衛、霍宣力。雖飲馬瀚海，揚旍<place>祁連</place>，事難役繁，天下騷動，委輸負海，貲及舟車。凶狡倔強，未肯受弱，得失報復，裁不相補。宣帝末年，值其乖亂，推亡固存，始獲稽服。自晉喪<place>中原</place>，戎狄侵擾，百餘年間，未暇以北虜為念。大宋啟祚，兩燿靈武，而<place>懷德</place>畏威，用自款納。陛下臨御以來，羈縻遵養，十餘年中，貢譯不絕。去歲三王出鎮，思振遠圖，獸心易駭，遂生猜懼，背違信約，深搆攜隙。貪禍恣毒，無因自反，恐烽燧之警，必自此始。臣素\\n庸懦，才不經武，率其管窺，謹撰<place>安邊</place>論。意及淺末，懼無可採。若得詢之朝列，辨覈同異，庶或開引羣慮，研盡眾謀，短長畢陳，當否可見。其論曰：\\n漢世言備匈奴之策，不過二科，武夫盡征伐之謀，儒生講和親之約，課其所言，互有遠志。加塞漠之外，胡敵掣肘，必未能摧鋒引日，規自開張。當由往年冀土之民，附化者眾，二州臨境，三王出藩，經略既張，宏圖將舉，士女延望，華、夷慕義。故昧於小利，且自矜侈，外示餘力，內堅偽眾。今若務存遵養，許其<person>自新</person>，雖未可羈致北闕，猶足鎮靜邊境。然和親事重，當盡廟算，誠非愚短，所能究言。若追蹤衛、霍瀚海之志，時事不等，致功亦殊。寇雖習戰來久，又全據燕、趙，跨帶秦、魏，山河之險，終古如一。自非大田淮、泗，內實青、徐，使民有贏儲，野有積穀，然後分命方、召，總率虎旅，精卒十萬，使一舉盪夷，則不足稍勤王師，以勞天下。何以言之？今遺黎習亂，志在偷安，非皆恥為左衽，遠慕冠冕，徒以殘害剝辱，視息無寄，故繈負歸國，先後相尋。虜既不能校勝循理，攻城略地，而輕兵掩襲，急在驅殘，是其所以速怨召禍，滅亡之日。今若遣軍追討，報其侵暴，大翦幽、冀，屠城破邑，則聖朝愛育黎元，方濟之以道。若但欲撫其歸附，伐罪弔民，則駿馬奔走，不肯來征，徒興巨費，無損於彼。復奇兵深入，殺敵破軍，苟陵患未盡，則困獸思鬭，報復之役，將遂無已。斯秦、漢之末策，<place>輪臺</place>之所悔也。\\n安<person>邊固</person>守，於計為長。臣以<place>安邊</place>之計，備在史策，李牧言其端，嚴尤申其要，大略舉矣。曹、孫之霸，才均智敵，江、淮之間，不居各數<place>百里</place>。魏捨<place>合肥</place>，退保<place>新城</place>，吳城<place>江陵</place>，移民南涘，濡須之戍，家停羨溪。及<place>襄陽</place>之屯，民夷散雜，晉宣王以為宜徙沔南，以實水北，曹爽不許，果亡柤中，此皆前代之殷鑒也。何者？斥候之郊，非畜牧之所；轉戰之地，非耕桑之邑。故堅壁清野，以俟其來，整甲繕兵，以乘其敝。雖時有古今，勢有強弱，保民全境，不出此塗。要而歸之有四：一曰移遠就近；二曰浚復城隍；三曰纂偶車牛；四曰計丁課仗。良守疆其土田，驍帥振其風略。蒐獵宣其號令，俎豆訓其廉恥。縣爵以縻之，設禁以威之。徭稅有程，寬猛相濟。比及十載，民知義方。然後簡將授奇，揚旌雲朔，風卷河冀，電掃嵩恒，燕弧折卻，代馬摧足，秦首斬其右臂，吳蹄絕其左肩，銘功於燕然之阿，饗徒於金微之曲。\\n寇雖亂亡有徵，昧弱易取，若天時人事，或未盡符，抑銳俟機，宜審其算。若邊戍未增，星居布野，勤惰異教，貧富殊資，疆埸之民，多懷彼此，虜在去就，不根本業，難可驅率，易在振蕩。又狡虜之性，食肉衣皮，以馳騁為儀容，以游獵為南畝，非有車輿之安，宮室之衛，櫛風沐雨，不以為勞，露宿草寢，維其常性，勝則競利，敗不羞走，彼來或驟，而此已奔疲。且今春踰濟，既獲其利，乘勝忸𢗗，未虞天誅，比及秋末，容更送死。\\n猋騎蟻聚，輕兵鳥集，並踐禾稼，焚爇閭井，雖邊將多略，未審何以禦之。若盛師連屯，廢農必眾，馳車奔馹，起役必遲，散金行賞，損費必大，換土客戍，怨曠必繁。孰若因民所居，並修農戰，無動眾之勞，有扞衛之實，其為利害，優劣相縣也。\\n一曰移遠就近，以實內地。今青、兗舊民，<place>冀州</place>新附，在<place>界首</place>者二萬家，此寇之資也。今悉可內徙，<place>青州</place>民移<place>東萊</place>、<place>平昌</place>、<place>北海</place>諸郡，<place>兗州</place>、<place>冀州</place>移<place>泰山</place>以南，南至<place>下邳</place>，左沭右沂，田良野沃，西阻<place>蘭陵</place>，北阨大峴，四塞之內，其號險固。民性重遷，闇於圖始，無虜之時，喜生咨怨。今新被鈔掠，餘懼未息，若曉示安危，居以樂土，宜其歌抃就路，視遷如歸。\\n二曰浚復城隍，以增阻防。舊秋冬收斂，民人入保，所以警備暴客，使防衛有素也。古之城池，處處皆有，今雖頹毀，猶可修治。粗計戶數，量其所容，新徙之家，悉著城內，假其經用，為之閭伍，納稼築場，還在一處。婦子守家，長吏為師，丁夫匹婦，春夏佃牧，秋冬入保。寇至之時，一城千室，堪戰之士，不下二千，其餘羸弱，猶能登陴鼓譟。十則圍之，兵家舊說，戰士二千，足抗羣虜三萬矣。\\n三曰纂偶車牛，以飾戎械。計千家之資，不下五百耦牛，為車伍伯兩。參合鉤連，以衛其眾。設使城不可固，平行趨險，賊所不能干。既已族居，易可檢括。號令先明，\\n民知夙戒。有急徵發，信宿可聚。\\n四曰計丁課仗，勿使有闕。千家之邑，戰士二千，隨其便能，各自有仗，素所服習，銘刻由己，還保輸之於庫，出行請以自衛。弓簳利鐵，民不辦得者，官以漸充之，數年之內，軍用粗備矣。\\n臣聞軍國異容，施於封畿之內；兵農並修，在於疆埸之表。攻守之宜，皆因其習，任其怯勇。山<place>陵川</place>陸之形，寒暑溫凉之氣，各由本性，易則害生。是故戍申作〔刺，怨起及瓜，今若以荊、吳銳〕師遠屯清濟，功費既重，嗟怨亦深。以臣料之，未若即用彼眾之易也。管子治齊，寄令在民；商君為秦，設以耕戰。終申<place>威定</place>覇，行其志業，非苟任強，實由有數。梁用走卒，其邦自滅；齊用技擊，厥眾亦離。漢、魏以來，茲制漸絕，蒐田非復先王之禮，治兵徒逞耳目之欲，有急之日，民不知戰，至乃廣延賞募，奉以厚秩，發遽奔救，天下騷然。方伯<office>刺史</office>，拱手坐聽，自無經略，唯望朝廷遣軍，此皆忘戰之害，不教之失也。今移民實內，浚治城隍，族居聚處，課其騎射，長吏簡試，差品能不，甲科上第，漸就優別，明其勳才，表言州郡。如此則屯部有常，不遷其業，內護老弱，外通宦塗，朋曹素定，同憂等樂，情由習親，蓺因事著，晝戰見貌足相識，夜戰聞聲足相救，斯教戰之一隅，先哲之遺術。論者必以古城荒毀，難可修復。今不謂頓便\\n加功，整麗如舊，但欲先定民居，營其閭術，墉壑存者，因而即之，其有毀缺，權時柵斷。足以禦彼輕兵，防遏游騎，假以方將，漸就完立。車牛之賦，課仗之宜，攻守所資，軍國之要，今因民所利，導而率之。耕農之器，為府庫之寶，田蠶之氓，兼捍城之用，千家總倍旅之兵，萬戶具全軍之眾，兵強而敵不戒，國富而民不勞，比於優復隊伍，坐食廩糧者，不可同年而校矣。\\n今承平來久，邊令弛縱，弓簳利鐵，既不都斷，往歲棄甲，垂二十年，課其所住，理應消壞。謂宜申明舊科，嚴加禁塞，諸商賈往來，幢隊挾藏者，皆以軍法治之。又界上嚴立關候，杜廢間蹊。城保之境，諸所課仗，並加雕鐫，別造程式。若有遺鏃亡刃，及私為竊盜者，皆可立驗，於事為長。又鉅野湖澤廣大，<place>南通</place>洙、泗，北連青、齊，有<place>舊縣</place>城，正在澤內。宜立式修復舊堵，利其埭遏，給輕艦百艘。寇若入境，引艦出戰，左右隨宜應接，據其師津，毀其航漕。此以利制車，運我所長，亦禦敵之要也。\\n承天素好弈棊，頗用廢事。太祖賜以局子，承天奉表陳謝，上答：「局子之賜，何必非張武之金邪。」承天又能彈箏，上又賜銀裝箏一面。承天與<office>尚書</office>左丞<person>謝元</person>素不相善，二人競伺二臺之違，累相糾奏。<office>太尉</office><person>江夏王</person>義恭歲給資費錢三千萬，布五萬匹，米七萬斛。義恭素奢侈，用常不充，二十一年，逆就<office>尚書</office>換明年資費。而舊制出錢二十萬，布五百匹以上，並應奏聞，元輒命議以錢二百萬給<office>太尉</office>。事發覺，元乃使<office>令史</office>取<office>僕射</office><person>孟顗</person>命。元時新除<office>太尉</office><office>諮議參軍</office>，未拜，為承天所糾。上大怒，遣元長歸田里，禁錮終身。元時又舉承天賣茭四百七十束與官屬，求貴價，承天坐白衣領職。元字有宗，<place>陳郡</place><place>陽夏</place>人，<place>臨川</place><office>內史</office>靈運從祖弟也。以才學見知，卒於禁錮。\\n二十四年，承天遷<office>廷尉</office>，未拜，上欲以為吏部，已受密旨，承天宣漏之，坐免官，卒於家，年七十八。先是，禮論有八百卷，承天刪減并合，以類相從，凡為三百卷，并前傳、雜語、纂文、論並傳於世。又改定元嘉歷，語在律歷志。\\n史臣曰：治邊之術，前世言之詳矣。夫戎夷狡黠，飄迅難虞，必宜完其障塞，謹其烽柝，使來逕可防，去塗易梗，然後乃能禁暴止姦，養威攘寇。漢世案秦舊迹，嚴塞以限外夷，吳、魏交戰，亦以江、淮為疆埸，莫不先憑地險，却保民和，且守且耕，伺隙乘釁。<person>高祖</person>受命，王略未遠，雖綿河作守，而兵孤援闊，盛衰既兆，用啟戎心。蓋由王業始基，經創多闕，先內後外，以至於此乎。自茲以降，分青置境，無圍守之宜，闕耕戰之略，恃寇不來，遂無其備。周、漢二策，在宋頓亡，遂致胡馬橫行，曾無藩落之固，使士民跼蒼天，蹐厚地，繫虜俘囚，而無所控告，哀哉！承天<place>安邊</place>論，博而篤矣，載之云爾。\\n\\n\\n\\n'"
      ]
     },
     "execution_count": 132,
     "metadata": {},
     "output_type": "execute_result"
    }
   ],
   "source": [
    "for k in RSTR2NE.keys():\n",
    "    if k in txt:\n",
    "        txt = txt.replace(k, f\"<{RSTR2CAT[k]}>{RSTR2NE[k]}</{RSTR2CAT[k]}>\")\n",
    "\n",
    "txt"
   ]
  },
  {
   "cell_type": "code",
   "execution_count": 133,
   "metadata": {},
   "outputs": [],
   "source": [
    "import re"
   ]
  },
  {
   "cell_type": "code",
   "execution_count": 138,
   "metadata": {},
   "outputs": [],
   "source": [
    "regex_year = re.compile(r\"((?:|建武|太興|永昌|太寧|咸和|咸康|建元|永和|昇平|隆和|興寧|太和|咸安|寧康|太元|隆安|元興|義熙|元熙|永初|景平|元嘉|太初|孝建|大明|永光|景和|泰始|泰豫|元徽|昇明)?(?:[元一二三四五六七八九十]{1,3}年))\")\n",
    "\n",
    "regex_year = re.compile(r\"(?:(建武|太興|永昌|太寧|咸和|咸康|建元|永和|昇平|隆和|興寧|太和|咸安|寧康|太元|隆安|元興|義熙|元熙|永初|景平|元嘉|太初|孝建|大明|永光|景和|泰始|泰豫|元徽|昇明)?([元一二三四五六七八九十]{1,3})年)\")\n",
    "\n",
    "def tagTimeExpressions(txt):\n",
    "    return regex_year.findall(txt)"
   ]
  },
  {
   "cell_type": "code",
   "execution_count": 139,
   "metadata": {},
   "outputs": [
    {
     "data": {
      "text/plain": [
       "[('隆安', '四'),\n",
       " ('義熙', '十一'),\n",
       " ('元嘉', '三'),\n",
       " ('', '七'),\n",
       " ('', '十六'),\n",
       " ('', '十'),\n",
       " ('', '十六'),\n",
       " ('', '三'),\n",
       " ('', '十九'),\n",
       " ('', '二十'),\n",
       " ('', '二十一'),\n",
       " ('', '二十四')]"
      ]
     },
     "execution_count": 139,
     "metadata": {},
     "output_type": "execute_result"
    }
   ],
   "source": [
    "tagTimeExpressions(txt)"
   ]
  },
  {
   "cell_type": "code",
   "execution_count": 101,
   "metadata": {},
   "outputs": [
    {
     "data": {
      "text/plain": [
       "'\\n\\n史／正史／宋書／列傳\\u3000凡六十卷／卷五十三\\u3000列傳第十三／<person>張茂度</person>(P.1509)..[底本：<place>宋元</place>明三朝遞修本]\\n\\n宋書卷五十三\\u3000\\u3000列傳第十三\\u3000\\u3000\\u3000<person>張茂度</person>子永\\u3000<person>庾登之</person>弟炳之\\u3000<person>謝方明</person>\\u3000<person>江夷</person><person>張茂度</person>，<place>吳郡</place>吳人，張良後也。名與<person>高祖</person>諱同，故稱字。良七世孫為<place>長沙</place><office>太守</office>，始遷於吳。<person>高祖</person>嘉，曾祖澄，晉<office>光祿大夫</office>。祖彭祖，<office>廣州刺史</office>。父敞，<office>侍中</office>、<office>尚書</office>、吳國<office>內史</office>。\\n茂度郡上計吏，<office>主簿</office>，功曹，州命從事史，並不就。除琅邪王衞軍<office>參軍</office>，<office>員外散騎侍郎</office>，<office>尚書</office><office>度支郎</office>，父憂不拜。服闋，為<person>何無忌</person>鎮南<office>參軍</office>。頃之，出補<place>晉安</place><office>太守</office>。<person>盧循</person>為寇，覆沒<place>江州</place>，茂度及<place>建安</place><office>太守</office>孫蚪之並受其符書，供其調役。循走，俱坐免官。復以為<place>始興</place>相，郡經賊寇，廨宇焚燒，民物凋散，百不存一。茂度創立城寺，弔死撫傷，收集離散，民戶漸復。在郡一周，徵為<office>太尉</office><office>參軍</office>，尋轉<office>主簿</office>、<place>揚州</place><office>治中從事史</office>。<person>高祖</person>西伐<person>劉毅</person>，茂度居守，留州事悉委之。軍還，遷<office>中書侍郎</office>。出為<person>司馬休之</person>平西<office>司馬</office>、<place>河南</place><office>太守</office>。<person>高祖</person>將討休之，茂度聞知，乘輕船逃下，逢<person>高祖</person><person>於中</person>路，以為<office>錄事</office><office>參軍</office>，<office>太守</office>如故。<place>江陵</place>平，<office>驃騎將軍</office>道憐為<place>荊州</place>，茂度仍為<office>諮議參軍</office>，<office>太守</office>如故。還為<place>揚州</place><office>別駕從事史</office>。<person>高祖</person>北伐關洛，復任留州事。出為<office>使持節</office>、督廣交二州諸軍事、<office>建武將軍</office>、<office>平越中郎將</office>、<office>廣州刺史</office>。綏靜百越，嶺外安之。以疾求還，復為道憐<office>司馬</office>。丁繼母憂，服闋，除<office>廷尉</office>，轉<office>尚書</office><office>吏部郎</office>。\\n太祖元嘉元年，出為<office>使持節</office>、督益寧二州<place>梁州</place>之巴西<place>梓潼</place><place>宕渠</place><place>南漢</place>中<place>秦州</place>之<place>懷寧</place><place>安固</place>六郡諸軍事、<office>冠軍將軍</office>、<office>益州刺史</office>。三年，太祖討<office>荊州刺史</office><person>謝晦</person>，詔<place>益州</place>遣軍襲<place>江陵</place>，晦已平而軍始至白帝。茂度與晦素善，議者疑其出軍遲留，時茂度弟邵為<office>湘州刺史</office>，起兵應大駕，上以邵誠節，故不加罪，被代還京師。七年，起為<office>廷尉</office>，加<office>奉車</office><office>都尉</office>，領本州中正。入為<office>五兵尚書</office>，徙<office>太常</office>。以脚疾出為<person>義興</person><office>太守</office>，加秩中二千石。上從容謂茂度曰：「勿復以西蜀介懷。」對曰：「臣若不遭陛下之明，墓木拱矣。」\\n頃之，解職還家。徵為<office>都官尚書</office>，加<office>散騎常侍</office>，固辭以疾。就拜<office>光祿大夫</office>，加金章紫綬。茂度內足於財，自絕人事，經始本縣之<place>華山</place>以為居止，優遊野澤，如此者七年。十八年，除<place>會稽</place><office>太守</office>。素有吏能，在郡縣，職事甚理。明年，卒官。時年六十七。諡曰恭子。\\n\\n\\n\\n'"
      ]
     },
     "execution_count": 101,
     "metadata": {},
     "output_type": "execute_result"
    }
   ],
   "source": [
    "txt"
   ]
  },
  {
   "cell_type": "code",
   "execution_count": null,
   "metadata": {},
   "outputs": [],
   "source": []
  }
 ],
 "metadata": {
  "colab": {
   "name": "SongShu -- Geo Extraction.ipynb",
   "provenance": [],
   "version": "0.3.2"
  },
  "kernelspec": {
   "display_name": "Python 3",
   "language": "python",
   "name": "python3"
  },
  "language_info": {
   "codemirror_mode": {
    "name": "ipython",
    "version": 3
   },
   "file_extension": ".py",
   "mimetype": "text/x-python",
   "name": "python",
   "nbconvert_exporter": "python",
   "pygments_lexer": "ipython3",
   "version": "3.6.8"
  }
 },
 "nbformat": 4,
 "nbformat_minor": 4
}

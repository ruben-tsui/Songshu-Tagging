{
 "cells": [
  {
   "cell_type": "code",
   "execution_count": 1,
   "metadata": {},
   "outputs": [],
   "source": [
    "import json\n",
    "from SongShu import SongShu, hashstr\n",
    "import re\n",
    "import pandas as pd\n",
    "from zhon import hanzi\n",
    "from Surname import Surname\n",
    "from bs4 import BeautifulSoup, NavigableString\n",
    "from copy import deepcopy"
   ]
  },
  {
   "cell_type": "code",
   "execution_count": 2,
   "metadata": {},
   "outputs": [
    {
     "name": "stderr",
     "output_type": "stream",
     "text": [
      "INFO:root:Stop at loading ./data/medievalHistories/Songshu/SongShu_0969.html.\n",
      "INFO:root:Total length of the data is 969.\n",
      "ERROR:root:[Error] SongShu_rare_char.json does not exist\n",
      "\n",
      "            try to run these lines: \n",
      "            \t>> self.extract_rare_chars()\n",
      "            \t>> self.write_rare_chars()\n",
      "\n",
      "INFO:root:Remove the new lines added by the page dividers, connect the paragraphs before and after the new lines.\n",
      "INFO:root:Remove 標註, page number, and page dividers from the tree structure.\n",
      "WARNING:root:Not the right indent.史／正史／宋書／志　凡三十卷／卷二十二　志第十二　樂四(P.625)..[底本：宋元明三朝遞修本]\n",
      "WARNING:root:Not the right indent.史／正史／宋書／志　凡三十卷／卷二十二　志第十二　樂四／魏鼓吹曲十二篇　繆襲／初之平曲(P.644)..[底本：宋元明三朝遞修本]\n",
      "WARNING:root:Not the right indent.史／正史／宋書／志　凡三十卷／卷二十二　志第十二　樂四／魏鼓吹曲十二篇　繆襲／戰滎陽曲(P.644)..[底本：宋元明三朝遞修本]\n",
      "WARNING:root:Not the right indent.史／正史／宋書／志　凡三十卷／卷二十二　志第十二　樂四／魏鼓吹曲十二篇　繆襲／獲呂布曲(P.644)..[底本：宋元明三朝遞修本]\n",
      "WARNING:root:Not the right indent.史／正史／宋書／志　凡三十卷／卷二十二　志第十二　樂四／魏鼓吹曲十二篇　繆襲／克官渡曲(P.645)..[底本：宋元明三朝遞修本]\n",
      "WARNING:root:Not the right indent.史／正史／宋書／志　凡三十卷／卷二十二　志第十二　樂四／魏鼓吹曲十二篇　繆襲／舊邦曲(P.645)..[底本：宋元明三朝遞修本]\n",
      "WARNING:root:Not the right indent.史／正史／宋書／志　凡三十卷／卷二十二　志第十二　樂四／魏鼓吹曲十二篇　繆襲／定武功曲(P.645)..[底本：宋元明三朝遞修本]\n",
      "WARNING:root:Not the right indent.史／正史／宋書／志　凡三十卷／卷二十二　志第十二　樂四／魏鼓吹曲十二篇　繆襲／屠柳城曲(P.646)..[底本：宋元明三朝遞修本]\n",
      "WARNING:root:Not the right indent.史／正史／宋書／志　凡三十卷／卷二十二　志第十二　樂四／魏鼓吹曲十二篇　繆襲／平南荊曲(P.646)..[底本：宋元明三朝遞修本]\n",
      "WARNING:root:Not the right indent.史／正史／宋書／志　凡三十卷／卷二十二　志第十二　樂四／魏鼓吹曲十二篇　繆襲／平關中曲(P.646)..[底本：宋元明三朝遞修本]\n",
      "WARNING:root:Not the right indent.史／正史／宋書／志　凡三十卷／卷二十二　志第十二　樂四／魏鼓吹曲十二篇　繆襲／應帝期曲(P.646)..[底本：宋元明三朝遞修本]\n",
      "WARNING:root:Not the right indent.史／正史／宋書／志　凡三十卷／卷二十二　志第十二　樂四／魏鼓吹曲十二篇　繆襲／邕熙曲(P.647)..[底本：宋元明三朝遞修本]\n",
      "WARNING:root:Not the right indent.史／正史／宋書／志　凡三十卷／卷二十二　志第十二　樂四／魏鼓吹曲十二篇　繆襲／太和曲(P.647)..[底本：宋元明三朝遞修本]\n",
      "WARNING:root:Not the right indent.史／正史／宋書／志　凡三十卷／卷二十二　志第十二　樂四／吳鼓吹曲十二篇　韋昭／炎精缺曲凡三十句，句三字(P.656)..[底本：宋元明三朝遞修本]\n",
      "WARNING:root:Not the right indent.史／正史／宋書／志　凡三十卷／卷二十二　志第十二　樂四／吳鼓吹曲十二篇　韋昭／漢之季曲凡二十句，其十八句句三字，二句句四字(P.656)..[底本：宋元明三朝遞修本]\n",
      "WARNING:root:Not the right indent.史／正史／宋書／志　凡三十卷／卷二十二　志第十二　樂四／吳鼓吹曲十二篇　韋昭／攄武師曲凡六句，其三句句三字，三句句四字(P.657)..[底本：宋元明三朝遞修本]\n",
      "WARNING:root:Not the right indent.史／正史／宋書／志　凡三十卷／卷二十二　志第十二　樂四／吳鼓吹曲十二篇　韋昭／伐烏林曲凡十八句，其十句句四字，八句句三字(P.657)..[底本：宋元明三朝遞修本]\n",
      "WARNING:root:Not the right indent.史／正史／宋書／志　凡三十卷／卷二十二　志第十二　樂四／吳鼓吹曲十二篇　韋昭／秋風曲凡十五句，其十四句句五字，一句四字(P.657)..[底本：宋元明三朝遞修本]\n",
      "WARNING:root:Not the right indent.史／正史／宋書／志　凡三十卷／卷二十二　志第十二　樂四／吳鼓吹曲十二篇　韋昭／克皖城曲凡十二句，其六句句三字，六句句四字(P.657)..[底本：宋元明三朝遞修本]\n",
      "WARNING:root:Not the right indent.史／正史／宋書／志　凡三十卷／卷二十二　志第十二　樂四／吳鼓吹曲十二篇　韋昭／關背德曲凡二十一句，其八句句四字，二句句六字，七句句五字，四句句三字(P.658)..[底本：宋元明三朝遞修本]\n",
      "WARNING:root:Not the right indent.史／正史／宋書／志　凡三十卷／卷二十二　志第十二　樂四／吳鼓吹曲十二篇　韋昭／通荊門曲凡二十四句，其十七句句五字，四句句三字，三句句四字(P.658)..[底本：宋元明三朝遞修本]\n",
      "WARNING:root:Not the right indent.史／正史／宋書／志　凡三十卷／卷二十二　志第十二　樂四／吳鼓吹曲十二篇　韋昭／章洪德曲凡十句，其八句句三字，二句句四字(P.659)..[底本：宋元明三朝遞修本]\n",
      "WARNING:root:Not the right indent.史／正史／宋書／志　凡三十卷／卷二十二　志第十二　樂四／吳鼓吹曲十二篇　韋昭／從曆數曲凡二十六句，其一句句三字，三句句四字，二十二句句五字，一句六字(P.659)..[底本：宋元明三朝遞修本]\n",
      "WARNING:root:Not the right indent.史／正史／宋書／志　凡三十卷／卷二十二　志第十二　樂四／吳鼓吹曲十二篇　韋昭／承天命曲凡三十四句，其十九句句三字，二句句五字，十三句句四字(P.659)..[底本：宋元明三朝遞修本]\n",
      "WARNING:root:Not the right indent.史／正史／宋書／志　凡三十卷／卷二十二　志第十二　樂四／吳鼓吹曲十二篇　韋昭／玄化曲凡十三句，其五句句五字，二句句三字，三句句四字，三句句七字(P.660)..[底本：宋元明三朝遞修本]\n",
      "WARNING:root:Not the right indent.史／正史／宋書／志　凡三十卷／卷四十　志第三十　百官下／第一品(P.1260)..[底本：宋元明三朝遞修本]\n",
      "WARNING:root:Not the right indent.史／正史／宋書／志　凡三十卷／卷四十　志第三十　百官下／第二品(P.1260)..[底本：宋元明三朝遞修本]\n",
      "WARNING:root:Not the right indent.史／正史／宋書／志　凡三十卷／卷四十　志第三十　百官下／第三品(P.1261)..[底本：宋元明三朝遞修本]\n",
      "WARNING:root:Not the right indent.史／正史／宋書／志　凡三十卷／卷四十　志第三十　百官下／第四品(P.1261)..[底本：宋元明三朝遞修本]\n",
      "WARNING:root:Not the right indent.史／正史／宋書／志　凡三十卷／卷四十　志第三十　百官下／第五品(P.1262)..[底本：宋元明三朝遞修本]\n",
      "WARNING:root:Not the right indent.史／正史／宋書／志　凡三十卷／卷四十　志第三十　百官下／第六品(P.1263)..[底本：宋元明三朝遞修本]\n",
      "WARNING:root:Not the right indent.史／正史／宋書／志　凡三十卷／卷四十　志第三十　百官下／第七品(P.1264)..[底本：宋元明三朝遞修本]\n",
      "WARNING:root:Not the right indent.史／正史／宋書／志　凡三十卷／卷四十　志第三十　百官下／第八品(P.1264)..[底本：宋元明三朝遞修本]\n",
      "WARNING:root:Not the right indent.史／正史／宋書／志　凡三十卷／卷四十　志第三十　百官下／第九品(P.1265)..[底本：宋元明三朝遞修本]\n"
     ]
    },
    {
     "name": "stdout",
     "output_type": "stream",
     "text": [
      "Removing bookmarks from main text...\n",
      "Extracting full person names based on Global NE List...\n",
      "Getting all person names from bookmarks...\n",
      "Normalizing all person names bookmarks...\n",
      "Combining all person names (global list and bookmarks)...\n",
      "Wall time: 1min 14s\n"
     ]
    }
   ],
   "source": [
    "%%time\n",
    "songshu = SongShu(\"2019-08-25\", \"RGT\")\n",
    "songshu.load_htmls(\"./data/medievalHistories/Songshu/\")\n",
    "songshu.buildDictionaries('./NE_randstr.txt')\n",
    "songshu.extract_all()\n",
    "songshu.encodeTime()"
   ]
  },
  {
   "cell_type": "code",
   "execution_count": 3,
   "metadata": {},
   "outputs": [],
   "source": [
    "# These are the non-prince biographical entries in Songshu\n",
    "VALID_BIO_FILENOS = list(range(597,654)) + list(range(664,714)) + list(range(722,751)) + \\\n",
    "                    list(range(755,761)) + list(range(755,761)) + list(range(774, 798))"
   ]
  },
  {
   "cell_type": "code",
   "execution_count": 10,
   "metadata": {},
   "outputs": [
    {
     "name": "stdout",
     "output_type": "stream",
     "text": [
      "609\n",
      "史／正史／宋書／列傳　凡六十卷／卷四十四　列傳第四／謝晦\n",
      "Unable to split this name: 問至\n",
      "Unable to split this name: 光順之\n",
      "Unable to split this name: 道濟\n",
      "Unable to split this name: 弘宗\n",
      "宋書卷四十四　　列傳第四　　　<person>謝晦</person><person>謝晦</person>字宣明，<place>陳郡</place><place>陽夏</place>人也。<person id='高祖'>祖</person>朗，<place>東陽</place><office>太守</office>。父重，<office>會稽王</office>道子驃騎<office>長史</office>。兄絢，<person>高祖</person>鎮軍<office>長史</office>，蚤卒。\n",
      "\n",
      "<person id='謝晦'>晦</person>初為<person>孟昶</person>建威府<office>中兵</office><office>參軍</office>。<person id='孟昶'>昶</person>死，<person>高祖</person>問<person>劉穆之</person>：「<person>孟昶</person>參佐，誰堪入我府？」<person id='劉穆之'>穆之</person>舉<person id='謝晦'>晦</person>，即命為<office>太尉</office><office>參軍</office>。<person>高祖</person>嘗訊囚，其旦<office>刑獄</office><office>參軍</office>有疾，札<person id='謝晦'>晦</person>代之，於車<person id='於中'>中</person>一覽訊牒，催促便下。相府多事，獄繫殷積，<person id='謝晦'>晦</person>隨問酬辯，曾無違謬。<person>高祖</person>奇之，即日署<office>刑獄賊曹</office>，轉<place>豫州</place>治<person id='於中'>中</person>從事。<time>義熙八年</time>，土斷僑流郡縣，使<person id='謝晦'>晦</person>分判揚、豫民戶，以平允見稱。入為<office>太尉</office><office>主簿</office>。從征<person>司馬休之</person>。時<person>徐逵之</person>戰敗見殺，<person>高祖</person>怒，將自被甲登岸，諸將諫，不從，怒愈甚。<person id='謝晦'>晦</person>前抱持<person>高祖</person>，<person>高祖</person>曰：「我斬卿！」<person id='謝晦'>晦</person>曰：「天下可無<person id='謝晦'>晦</person>，不可無公，<person id='謝晦'>晦</person>死何有！」會<person>胡藩</person>已得登岸，賊退走，乃止。\n",
      "\n",
      "<person id='謝晦'>晦</person>美風姿，善言笑，眉目分明，鬢髮如點漆。涉獵文義，朗贍多通。<person>高祖</person>深加愛賞，羣僚莫及。從征關、洛，內外要任悉委之。<person>劉穆之</person>遣使陳事，<person id='謝晦'>晦</person>往往措異同，<person id='劉穆之'>穆之</person>怒曰：「公復有還時不？」<person>高祖</person>欲以為<office>從事中郎</office>，以訪<person id='劉穆之'>穆之</person>，堅執不與。終<person id='劉穆之'>穆之</person>世不遷。<person id='劉穆之'>穆之</person>喪<person>問至</person>，<person>高祖</person>哭之甚慟。<person id='謝晦'>晦</person>時正直，喜甚，自入閤內參審<person id='劉穆之'>穆之</person>死問。其日教出，轉<person id='謝晦'>晦</person><office>從事中郎</office>。\n",
      "\n",
      "宋臺初建，為<office>右衞將軍</office>，尋加<office>侍中</office>。<person>高祖</person>受命，於石頭登壇，備法駕入宮。<person id='謝晦'>晦</person>領游軍為警備，遷<office>中領軍</office>，<office>侍中</office>如故。以佐命功，封<place>武昌縣</place>公，食邑二千戶。<time>二年</time>，坐行璽封鎮西<office>司馬</office>、<place>南郡</place><office>太守</office><person>王華</person>大封，而誤封<place>北海</place><office>太守</office>球，版免<person id='謝晦'>晦</person><office>侍中</office>。\n",
      "\n",
      "尋轉<office>領軍將</office>軍、<office>散騎常侍</office>，依<place>晉中</place>軍<person>羊祜</person>故事，入直殿省，總統宿衞。<time>三月</time>，<person>高祖</person>不豫，給班劍二十人，與<person>徐羨之</person>、<person>傅亮</person>、<person>檀道濟</person>並侍醫藥。少帝即位，加領<office>中書令</office>，與<person id='徐羨之'>羨之</person>，<person id='傅亮'>亮</person>共輔朝政。少帝既廢，<office>司空</office><person>徐羨之</person>錄詔命，以<person id='謝晦'>晦</person>行<office>都督</office>荊湘雍益<place>寧南</place>北秦七州諸軍事、<office>撫軍將軍</office>、領護<office>南蠻校尉</office>、<office>荊州刺史</office>，欲令居外為援，慮太<person id='高祖'>祖</person>至或別用人，故遽有此授。精兵舊將，悉以配之，器仗軍資甚盛。太<person id='高祖'>祖</person>即位，加<office>使持節</office>，依本位除授。<person id='謝晦'>晦</person>慮不得去，甚憂惶，及發新亭，顧望<place>石頭城</place>，喜曰：「今得脫矣。」尋進號<office>衞將軍</office>，加<office>散騎常侍</office>，進封<place>建平郡</place>公，食邑四千戶，固讓進封。又給鼓吹一部。\n",
      "\n",
      "\n",
      "初為<place>荊州</place>，甚有自矜之色，將之鎮，詣從叔<office>光祿大夫</office>澹別。澹問<person id='謝晦'>晦</person>年，<person id='謝晦'>晦</person>答曰：「三十五。」澹笑曰：「昔荀<office>中郎</office>年二十七為北府<office>都督</office>，卿比之，己為老矣。」<person id='謝晦'>晦</person>有愧色。\n",
      "\n",
      "至<place>江陵</place>，深結<office>侍中</office><person>王華</person>，冀以免禍。二女<person id='秋當'>當</person>配<office>彭城王</office>義康、<place>新野</place>侯義賓，<time>元嘉二年</time>，遣妻曹及長子世休送女還京邑。先是景平<person id='於中'>中</person>，索虜為寇，覆沒<place>河南</place>。至是上欲誅<person id='徐羨之'>羨之</person>等，并討<person id='謝晦'>晦</person>。聲言北伐，又言拜京陵，治裝舟艦。<person>傅亮</person>與<person id='謝晦'>晦</person>書曰：「薄伐河朔，事猶未已，朝野之慮，憂懼者多。」又言：「朝士多諫北征，上<person id='秋當'>當</person>遣外監<person>萬幼宗</person>往相諮訪。」時朝廷處分異常，其謀頗泄。<time>三年</time>正月，<person id='謝晦'>晦</person>弟<office>黃門侍郎</office>㬭馳使告<person id='謝晦'>晦</person>，<person id='謝晦'>晦</person>猶謂不然，呼<office>諮議參軍</office><person>何承天</person>，示以<person id='傅亮'>亮</person>書，曰：「計<person id='萬幼宗'>幼宗</person>一二日必至，傅公慮我好事，故先遣此書。」<person id='何承天'>承天</person>曰：「外間所聞，咸謂西討已定，<person id='萬幼宗'>幼宗</person>豈有上理。」<person id='謝晦'>晦</person>尚謂虛妄，使<person id='何承天'>承天</person>豫立答詔啟草，言伐虜宜須明年。<office>江夏內史</office><person>程道惠</person>得尋陽人書，言「朝廷將有大處分，其事已審」，使其輔國府<office>中兵</office><office>參軍</office><person>樂冏</person>封以示<person id='謝晦'>晦</person>。<person id='謝晦'>晦</person>又謂<person id='何承天'>承天</person>曰：「<person id='萬幼宗'>幼宗</person>尚未至，若復二三日無消息，便是不復來邪？」<person id='何承天'>承天</person>答曰：「詔使本無來理，如程所說，其事已判，豈容復疑。」\n",
      "\n",
      "<person id='謝晦'>晦</person>欲焚南蠻兵籍，率見力決戰。士人多勸發兵，乃立幡戒嚴，謂<office>司馬</office><person>庾登之</person>曰：「今<person id='秋當'>當</person>自下，欲屈卿以三千人守城，備禦<person>劉粹</person>。」<person id='庾登之'>登之</person>曰：「下官親老在都，又素無旅，情計二三，不敢受此旨。」<person id='謝晦'>晦</person>仍問諸佐：「戰士三千，足守城不？」南蠻<office>司馬</office>周超對曰：「非徒守城而已，若有外寇，可以立勳。」<person id='庾登之'>登之</person>乃曰：「超必能辦，下官請解<office>司馬</office>、<place>南郡</place>以授。」即於坐命超為<office>司馬</office>、<office>建威將軍</office>、南<place>義陽</place><office>太守</office>，轉<person id='庾登之'>登之</person>為<office>長史</office>，<place>南郡</place>如故。\n",
      "\n",
      "太<person id='高祖'>祖</person>誅<person id='徐羨之'>羨之</person>等及<person id='謝晦'>晦</person>子新除<office>祕書郎</office>世休，收㬭、㬭子世平、兄子<office>著作佐郎</office><person id='王紹'>紹</person>等。<person>樂冏</person>又遣使告<person id='謝晦'>晦</person>：「徐、傅二公及㬭等並已誅。」<person id='謝晦'>晦</person>先舉<person id='徐羨之'>羨之</person>、<person id='傅亮'>亮</person>哀，次發子弟<person id='元凶'>凶</person>問。既而自出射堂，配衣軍旅。數從<person>高祖</person>征討，備覩經略，至是指麾處分，莫不曲盡其宜。二三日<person id='於中'>中</person>，四遠投集，得精兵三萬人。乃奉表曰：\n",
      "臣階緣幸會，蒙<person>武皇帝</person>殊常之眷，外聞政事，內謀帷幄，經綸夷險，毗贊王業，預佐命之勳，膺河山之賞。及先帝不豫，導揚末命，臣與故<office>司徒</office>臣<person id='徐羨之'>羨之</person>、<office>左光祿大夫</office>臣<person id='傅亮'>亮</person>、<office>征北將軍</office>臣<person>道濟</person>等，並升御牀，跪受遺詔，載貽話言，託以後事。臣雖凡淺，感恩自厲，送往事居，誠貫幽顯。逮營陽失德，自絕宗廟，朝野岌岌，憂及禍難，忠謀協契，徇國忘己，援登聖朝，惟新皇祚。陛下馳傳乘流，曾不惟疑，臨朝殷懃，增崇封爵。此則臣等赤心已<person id='傅亮'>亮</person>於天鑒，遠近萬邦咸達於聖旨。若臣等志欲專權，不顧國典，便<person id='秋當'>當</person>協翼幼主，孤背天日，豈復虛館七旬，仰望鸞旗者哉？故廬陵王於營陽之世，屢被猜嫌，積怨犯上，自貽非命。天祚明德，屬<person id='秋當'>當</person>昌運，不有所廢，將何以興？成人之美，春秋之高義，立帝清館，臣節之所司。耿弇不以賊遺君父，臣亦何負於宋室邪？況釁結䦧牆，禍成畏逼，天下耳目，豈伊可誣。\n",
      "臣忝居蕃任，乃誠匪懈，為政小大，必先啟聞。糾剔羣蠻，清夷境內，分留弟姪，並侍殿省。陛下聿遵先志，申以婚姻，童稚之目，猥荷齒召，薦女遷子，合門相送。事君之道，義盡於斯。臣<person id='徐羨之'>羨之</person>總錄百揆，翼<person id='傅亮'>亮</person>三世，年耆乞退，屢抗表疏，優旨綢繆，未垂順許。臣<person id='傅亮'>亮</person>管司喉舌，恪虔夙夜，恭謹一心，守死善道。此皆皇宋之宗臣，社稷之鎮衞，而讒人傾覆，妄生國釁，天威震怒，加以極刑，并及臣門，同被孥戮。雖未知臣<person>道濟</person>問，推理即事，不容獨存。先帝顧託元臣翼命之佐，勦於佞邪之手，忠貞匪躬之輔，不免夷滅之誅。陛下春秋方富，始覽萬機，民之情偽，未能鑒悉。<person>王弘</person>兄弟，輕躁昧進，<person>王華</person>猜忌忍害，規弄威權，先除執政，以逞其欲。天下之人，知與不知，孰不為之痛心憤怨者哉！\n",
      "臣等見任先帝，垂二十載，小心謹慎，無纖介之愆，伏事甫爾，而嬰若斯之罪。若非先帝謬於知人，則為陛下未察愚款。臣去歲末使反，得朝士及殿省諸將書，並言嫌隙已成，必有今日之事。臣推誠仰期，罔有二心，不圖姦回潛遘，理順難恃，忠賢隕朝，愚臣見襲。<person>到彥之</person>、<person>蕭欣</person>等在近路。昔白公稱亂，諸梁嬰冑，惡人在朝，趙鞅入伐。臣義均休戚，任居分陝，豈可顛而不扶，以負先帝遺旨。輒率將士，繕治舟甲，須其自送投袂撲討。若天祚大宋，卜世靈長，義師克振，<person id='於中'>中</person>流清蕩，便<person id='秋當'>當</person>浮舟東下，戮此三豎，申理寃恥，謝罪闕庭，雖伏鑕赴鑊，無恨於心。伏願陛下遠尋永初託付之旨，近存元嘉奉戴之誠，則微臣丹𣢾，猶有可察。臨表哽慨，言不自盡。\n",
      "\n",
      "太<person id='高祖'>祖</person>時已戒嚴，諸軍相次進路。<office>尚書</office>符<place>荊州</place>曰：\n",
      "禍福無門，逆順有數，天道微於影響，人事鑒於前圖，未有蹈義而福不<person id='陸延'>延</person>，從惡而禍不至也。故智計之士，審敗以立功，守正之臣，臨難以全節。<person>徐羡之</person>、<person>傅亮</person>、<person>謝晦</person>，安忍鴆殺，獲罪於天，名教所極，政邢所取，已遠暴四海，宣於聖詔。<person id='徐羨之'>羨之</person>父子、<person id='傅亮'>亮</person>及<person id='謝晦'>晦</person>息，電斷之初，並即大憲。復王室之讎，攄義夫之憤，國典澄明，人神感悅。三姓同罪，既擒其二，<person id='謝晦'>晦</person>之室屬，縲仆獄戶，苟幽明所怨，孤根易拔，以順討逆，雖厚必崩。然歸死難圖，獸困則噬，是以爰整其旅，用為過防。京師之眾，天下雲集，士練兵精，大號響震。\n",
      "<office>使持節</office>、<office>中領軍</office><place>佷山</place>縣開國侯<person>到彥之</person>率羽林選士果勁二萬，雲旍首路，組甲曜川。<office>使持節</office>、<office>散騎常侍</office>、<office>都督</office>南徐兗<place>之江</place><place>北淮</place>南<place>青州</place><place>徐州</place>之<place>淮陽</place><place>下邳</place><place>琅邪</place><place>東莞</place>七郡諸軍事、<office>征北將軍</office>、南<office>兗州刺史</office>、<place>永脩縣</place>開國公<person>檀道濟</person>統勁銳武卒三萬，戈船蔽江，星言繼發，千帆俱舉，萬棹遄征。<office>散騎常侍</office>、<office>驍騎將軍</office><person>段宏</person>鐵馬二千，風驅電擊，步自<place>竟陵</place>，直至鄢郢。又命<office>征虜將軍</office>、<office>雍州刺史</office><person>劉粹</person>控<place>河陰</place>之師，衝其巢窟。<office>湘州刺史</office><person>張邵</person>提湘川之眾，直據要害。巴、蜀杜<place>荊門</place>之險，秦、梁絕丹圻之逕，雲網四合，走伏路盡。然後鑾輿効駕，六軍鵬翔，警蹕前臨，五牛整旆。雖以英布之氣，彭寵之資，登陴無名，授兵誰御？加以西土之人，咸沐皇澤，<place>東吳</place>將士，懷本首丘，必不自陷罪人之黨，橫為亂亡之役。置軍則魚潰，嬰城則鳥散，其勢然矣。聖上慇懃哀愍，其罪由<person id='謝晦'>晦</person>，士民何辜。是用一分前麾，宣示朝旨。符到，其即共收擒<person id='謝晦'>晦</person>身，輕舟護送。若已猖蹶，先事阻衞，宜翻然背亂，相率歸朝。頃大刑所加，洪恩曠洽，<person>傅亮</person>三息，特蒙全宥，<person id='謝晦'>晦</person>同產以下，<person id='徐羨之'>羨之</person>諸姪，咸無所染。況彼府州文武，並列王職，荷國榮任，身雖在外，乃心辰極。夫轉禍貴速，後機則<person id='元凶'>凶</person>，遂使王師臨郊，雷電皆至，噬臍之恨，亦將何及。\n",
      "\n",
      "時<office>益州刺史</office><person>蕭摹之</person>、巴西<office>太守</office><person>劉道產</person>被徵還，始至<place>江陵</place>，<person id='謝晦'>晦</person>並繫縶，沒其財貨，以充軍資。<office>竟陵內史</office><person>殷道鸞</person>未之郡，以為<office>諮議參軍</office>。以弟<person id='謝遯'>遯</person>為<place>冠軍</place>、<office>竟陵內史</office>，總留任，兄子世猷為<office>建威將軍</office>、<place>南平</place><office>太守</office>。<person>劉粹</person>若至，周超能破之者，即以為<office>龍驤將軍</office>、<office>雍州刺史</office>。<person id='謝晦'>晦</person>率眾二萬，發自<place>江陵</place>，舟艦列自<place>江津</place>至于破冢，旍旂相照，蔽奪日光。<person id='謝晦'>晦</person>乃歎曰：「恨不得以此為勤王之師！」自領<office>湘州刺史</office>，以<person>張邵</person>為<office>輔國將軍</office>，<person id='張邵'>邵</person>不受命。\n",
      "\n",
      "<person id='謝晦'>晦</person>檄京邑曰：\n",
      "王室多故，禍難荐臻。營陽失德，自絕宗廟。廬陵王構鬩有本，屢被猜嫌，且居喪失禮，遐邇所具，積怨犯上，自貽非道。羣后釋位，爰登聖明，亂之未乂，職有所係。按車騎<office>大將軍</office><person>王弘</person>、<office>侍中</office><person>王曇首</person>，謬蒙時私，叨竊權要。<person id='王弘'>弘</person>於永初之始，實荷不世之恩，元嘉之讓，自謂任遇浮淺，進誣先皇委誠之寄，退長嫌隙異同之端。<person id='王曇首'>曇首</person>往因使下，訪以今上起居，不能光揚令德，彰於朝聽，其言多誣，故不具說。<person>王華</person>賊亡之餘，賞擢之次，先帝常見訪逮，庶有一分可取，而<person id='王華'>華</person>禀性<person id='元凶'>凶</person>猜，多所忍害，曩者縱人入城，託疾辭事，此都士庶，咸所聞知。以其所啟及上手答示宗叔獻，又令宣告徐、傅二公。及周糾使下，又令見咨，云：「欲自攬政事，求離任還都，并令<person id='王曇首'>曇首</person>具述此意。」又惠觀道人說，外人告<person id='王華'>華</person>及<person>到彥之</person>謀反，不謂無之。城內東將，數日之內，操戈相待。<person id='王華'>華</person>說數為<person>秋當</person>所譖，常不自安。凡此諸事，豈有忠誠冥契若此者邪。自以父亡道側，情事異人，外絕酒醴，而宵飲是恣。靦貌□□□□□□凡厥士庶，誰不側目。又常歎宰相頓有數人，是何憤憤，規總威權，不顧國典。保祐皇家者，罹屠戮之誅，效勤社稷者，致殲夷之禍。搢紳之徒，孰不慷慨。遂矯違詔旨，遣<person>到彥之</person>、<person>蕭欣</person>之輕舟見襲。即日<place>監利</place>左尉露檄眾軍已至揚子。\n",
      "雖以不武，忝荷蕃任，國家艱難，悲憤兼集。若使小人得志，君子道消，凡百有殄瘁之哀，蒼生深橫流之懼。輒糾勒義徒，繕治舟甲，舳艫亘川，駟介蔽野，武夫鷙勇，人百其誠。今遣南蠻<office>司馬</office><office>寧遠將軍</office><person>庾登之</person>統<office>參軍</office>事<office>建武將軍</office>建平<office>太守</office>安泰、<office>宣威將軍</office>昭<person>弘宗</person>、<office>參軍</office>事<office>宣威將軍</office><person>王紹</person>之等，精銳一萬，前鋒致討。南蠻<office>參軍</office>、<office>振武將軍</office>魏像統<office>參軍</office>事、<office>宣威將軍</office>陳珍虎旅二千，<office>參軍</office>事、<office>建威將軍</office>、<place>新興</place><office>太守</office>賀愔甲卒三千，相係取道。南蠻<office>參軍</office>、<office>振威將軍</office>郭卓鐵騎二千，水步齊舉。大軍三萬，駱驛電邁。行<office>冠軍將軍</office><office>竟陵內史</office>河東<office>太守</office><person>謝遯</person>、<office>建威將軍</office><place>南平</place><office>太守</office>謝世猷驍勇一萬，留守<place>江陵</place>。分命<office>參軍</office>、<place>長寧</place><office>太守</office>竇應期步騎五千，直出<place>義陽</place>。<office>司馬</office>、<office>建威將軍</office>、行南<place>義陽</place><office>太守</office>周超之統軍<office>司馬</office>、<office>振武將軍</office><person>胡崇之</person>精悍一萬，北出<place>高陽</place>，長<office>兼行參軍</office>、<office>寧遠將軍</office>朱澹之步騎五千，西出雁塞，同討<person>劉粹</person>，並趨<place>襄陽</place>。奇兵尚速，指景齊奮。諸賢並同國恩，情兼義烈，今誠志士忘身之日，義夫著績之秋，見機而動，望風而不待勗。\n",
      "\n",
      "<person id='謝晦'>晦</person>至<place>江口</place>，<person>到彥之</person>已到<place>彭城</place>洲。<person>庾登之</person>據<place>巴陵</place>，畏懦不敢進。會霖雨連日，<office>參軍</office><person>劉和之</person>曰：「彼此共有雨耳，檀征北尋至，東軍方強，唯宜速戰。」<person id='庾登之'>登之</person>恇怯，使小將陳祐作大囊，貯茅數千斛，縣於颿檣，云可以焚艦，用火宜須晴，以緩戰期。<person id='謝晦'>晦</person>然之，遂停軍十五日。乃攻<person>蕭欣</person>於<place>彭城</place>洲，<office>中兵</office><office>參軍</office><person>孔延秀</person>率三千人進戰，甚力。<person id='蕭欣'>欣</person>於陳後擁楯自衞，又委軍還船，於是大敗。<person id='陸延'>延</person>秀又攻洲口柵陷之，<person id='到彥之'>彥之</person>退保隱圻。\n",
      "\n",
      "<person id='謝晦'>晦</person>又上表曰：\n",
      "\n",
      "臣聞<person id='元凶'>凶</person>邪敗國，先代成患；讒豎亂朝，異世齊禍。故趙高矯逼，秦氏用傾，董卓階亂，漢祚伊覆。雖哲王宰世，大明照臨，未能使其漸弗興，茲害不作。姦臣<person>王弘</person>等竊弄威權，興造禍亂，遂與弟<person id='王華'>華</person>內外影響，同惡相成，忌害忠賢，圖希非望。故<office>司徒</office>臣<person id='徐羨之'>羨之</person>、<office>左光祿大夫</office>臣<person id='傅亮'>亮</person>橫被酷害，并及臣門。雖未知<office>征北將軍</office>臣<person>道濟</person>存亡，不容獨免。遂遣<person>蕭欣</person>、<person>到彥之</person>等輕舟見襲，姦偽之甚，一至於斯。<person id='徐羨之'>羨之</person>及<person id='傅亮'>亮</person>，或宿德元臣，姻婭皇極，或任總文武，位班三事，<person>道濟</person>職惟上將，扞城是司，皆受遇先朝，棟梁一代。臣昔因時幸，過蒙先眷，內聞政事，外經戎旅，與<person id='徐羨之'>羨之</person>、<person id='傅亮'>亮</person>等同被齒盼。既經啟<person>王基</person>，協濟大業，爰自權輿，暨于揖讓，誠積雖微，仍見紀錄，並蒙丹書之誓，各受山河之賞，欲使與宋升降，傳之無窮。及聖體不預，穆卜無吉，召臣等四人，同升御牀，顧命領遺，委以家國。仰奉成旨，俯竭股肱，忠貞不效，期之以死。但營陽悖德，自絕於天，社稷之危，憂在託付，不有所廢，將焉以興。乃遠稽殷、漢，用升聖德。陛下順流乘傳，不聽張武之疑，入邸龍飛，非俟宋昌之議，斯乃主臣相信，天人合契，九五<place>當陽</place>，化形四海。<person id='徐羨之'>羨之</person>及<person id='傅亮'>亮</person>，內<place>贊皇</place>猷，臣與<person>道濟</person>，分翰于外，普天之下，孰曰不宜。遂蒙寵授，來鎮此方，分留弟姪，以侍臺省。到任以來，首尾三載，雖形在遠外，心係本朝，事無大小，動皆咨啟，八州之政，罔一專輒，尊上之心，足貫幽顯。陛下遠述先旨，申以婚姻，大息世休，復蒙引召，是以去年送女遣兒，闔家俱下，血誠如此，未知所愧。而<person id='元凶'>凶</person>狡無端，妄生釁禍，<person id='徐羨之'>羨之</person>內誅，臣受外伐，顧省諸懷，不識何罪？天聽遐邈，陳訴靡由。<person id='王弘'>弘</person>等既蒙寵任，得侍左右，自謂勢擅狐鼠，理隔熏掘。又以陛下富於春秋，始覽政事，欲馮陵恩幸，闚望國權，親從磐跱，規自封殖。不除臣等，罔得專權，所以交結讒慝，成是亂階。又惟<person id='王弘'>弘</person>等所構，<person id='秋當'>當</person>以營陽為言，廬陵為罪。又以臣等位高功同，內外膠固。陛下信其厚貌，忘厥左道，三至下機，能不暫惑。\n",
      "伏自尋省，廢昏立明，事非為己。廬陵之事，不由傍人，內積蕭牆之釁，外行叔段之罰，既制之有主，臣何預焉。然廬陵為性輕險，悌順不足，武皇臨崩，亦有口詔，比雖發自營陽，實非國禍。至於<person id='徐羨之'>羨之</person>、<person id='傅亮'>亮</person>等，周旋同體，心腹內外，政欲戮力皇家，盡忠報主。若令臣等頗欲執權，不專為國，初廢營陽，陛下在遠，武皇之子，尚有童幼，擁以號令，誰敢非之。而泝流三千，虛館<time>三月</time>，奉迎鑾駕，以遵下武，血心若斯，易為可鑒。且臣等奉事先朝，十有<time>七年</time>，並居顯耍，世稱恭謹，不圖一旦致茲釁罰。夫周公大賢，尚有流言之謗，伯奇至孝，不免譖愬之禍。慈父非無情於仁子，明君豈有志於貞臣。姦遘所移，勢回山岳，況乃精誠微淺，而望求信者哉。詩不云乎：「讒人罔極，交亂四國。愷悌君子，無信讒言。」陛下躬覽篇籍，研覈是非，釁兆之萌，宜應深察。臣竊懼王室小有皇甫之患，大有閻樂之禍，夙夜殷憂，若無首領。夫周道浸微，桓、文稱伐，君側亂國，趙鞅入誅。況今<person id='元凶'>凶</person>禍滔天，辰極危逼，台輔孥戮，岳牧傾陷。臣才非絳侯，<place>安漢</place>是職，人愧博陸，廁奉遺旨。國難既深，家痛亦切。輒簡徒繕甲，軍次<place>巴陵</place>，<person>蕭欣</person>窘懾，望風奔迸。臣誠短劣，在國忘身，仰憑社稷之靈，俯厲義勇之氣，將長驅電掃，直入石頭，梟翦<person>元凶</person>，誅夷首惡，弔二公之寃魂，寫私門之禍痛。然後分歸司寇，甘赴鼎鑊，雖死之日，猶生之年。\n",
      "伏惟陛下德合乾元，道侔玄極，鑒<person id='元凶'>凶</person>禍之無端，察貞<person id='傅亮'>亮</person>之有本，回日月之照，發霜電之威，梟四<person id='元凶'>凶</person>於廟庭，懸三監於絳闕，申二台之匪辜，明兩蕃之無罪，上謝<person id='高祖'>祖</person>宗，下告百姓，遣一乘之使，賜咫尺之書，臣便勒眾旋旗，還保所任。須次近路，尋復表聞。\n",
      "\n",
      "初，<person id='謝晦'>晦</person>與<person>徐羨之</person>、<person>傅亮</person>謀為自全之計，<person id='謝晦'>晦</person>據上流，而<person>檀道濟</person>鎮<place>廣陵</place>，各有強兵，以制持朝廷；<person id='徐羨之'>羨之</person>、<person id='傅亮'>亮</person><person>於中</person>秉權，可得持久。及太<person id='高祖'>祖</person><office>將行</office>誅，<person>王華</person>之徒咸云：「<person>道濟</person>不可信。」太<person id='高祖'>祖</person>曰：「<person>道濟</person>止於脅從，本非事主。殺害之事，又所不關。吾召而問之，必異。」於是詔<person>道濟</person>入朝，授之以眾，委之西討。<person id='謝晦'>晦</person>聞<person id='徐羨之'>羨之</person>等死，謂<person>道濟</person>必不獨全，及聞率眾來上，惶懼無計。\n",
      "\n",
      "<person>道濟</person>既至，與<person id='到彥之'>彥之</person>軍合，牽艦緣岸。<person id='謝晦'>晦</person>始見艦數不多，輕之，不即出戰。至晚，因風帆上，前後連咽，西人離阻，無復鬭心。臺軍至忌置洲尾，列艦過江，<person id='謝晦'>晦</person>大軍一時潰散。<person id='謝晦'>晦</person>夜出，投<place>巴陵</place>，得小船還<place>江陵</place>。初，<office>雍州刺史</office><person>劉粹</person>遣弟<place>竟陵</place><office>太守</office><person>道濟</person>與臺軍主<person>沈敞之</person>襲<place>江陵</place>，至沙橋，周超率萬餘人與戰，大破之。俄而<person id='謝晦'>晦</person>敗<person>問至</person>。<person id='謝晦'>晦</person>至<place>江陵</place>，無它處分，唯愧謝周超而已。超其夜舍軍單舸詣<person>到彥之</person>降。眾散略盡，乃攜其弟<person id='謝遯'>遯</person>、兄子世<person id='王基'>基</person>等七騎北走。<person id='謝遯'>遯</person>肥壯不能騎馬，<person id='謝晦'>晦</person>每待之，行不得速。至安<person>陸延</person>頭，為戍主<person>光順之</person>所執。順之，<person id='謝晦'>晦</person>故吏也。檻送京師，於路作悲人道，其詞曰：\n",
      "悲人道兮，悲人道之實難。哀人道之多險，傷人道之寡安。懿<person id='王華'>華</person>宗之冠冑，固清流而遠源。樹文德於庭戶，立操學於衡門。應積善之餘祐，<person id='秋當'>當</person>履福之所<person id='陸延'>延</person>。何小子之<person id='元凶'>凶</person>放，實招禍而作愆。\n",
      "值革變之大運，遭一顧於聖皇。參謀猷於創物，贊帝制於<person id='段宏'>宏</person>綱。出治戎於禁衞，入關言於帷房。分河山之珪組，繼文武之龜章。禀顧命於西殿，受遺寄於御牀。伊懦劣其無節，實懷此而不忘。荷隆遇於先主，欲報之於後王。憂託付之無効，懼愧言於存亡。謂繼體其嗣業，能增輝於前光。居遏密之未幾，越禮度而湎荒。普天壤而殞氣，必社稷之淪喪。矧吾儕之體國，實啟處而匪遑。藉億兆之一志，固昏極而明彰。諒主尊而民晏，信卜祚之無疆。國既危而重構，家已衰而載昌。獲扶顛而休否，冀世道之方康。\n",
      "\n",
      "朝褒功以疏爵，祗命服於西蕃。奏簫管之嘈囋，擁朱旄之赫煌。臨八方以作鎮，響文武之桓桓。厲薄弱以為政，實忘食於日旰。豈申甫之敢慕，庶惟宋之屏翰。甫逾歷其三稔，實周回其未再。豈有慮於內□□□□其云裁。痛夾輔之二宰，並加辟而靡貸。哀弱息之從禍，悲發<person id='於中'>中</person>而心痗。\n",
      "伊荊漢之良彥，逮文武之子民。見忠貞而弗<person id='傅亮'>亮</person>，覩理屈而莫申。皆義概而同憤，咸荷戈而競臻。浮舳艫之弈弈，陳車騎之轔轔。觀人和與師整，謂茲兵其誰陳。庶亡魂之雪怨，反涇、渭於彝倫。齊輕舟於江曲，殄銳敵其皆湮。勒陸徒於<place>白水</place>，寇無反於隻輪。氣有捷而益壯，威既肅而彌振。嗟時哉之不與，迕風雨以踰旬。我謀戰而不克，彼繼奔其躡塵。乏智勇之奇正，忽孟明而是遵。苟成敗其有數，豈怨天而尤人。恨矢石之未竭，遂摧師而覆陳。誠得喪之所遭，固<person id='秋當'>當</person>之其無吝。痛同懷之弱子，橫遭罹之殃釁。智未窮而事傾，力未極而莫振。誓同盡於鋒鏑，我怯劣而愆信。愍弟姪之何辜，實吾咎之所嬰。謂九夷其可處，思致免以全生。嗟性命之難遂，乃窘紲於邊亭。亦何忤於天地，備艱危而是丁。\n",
      "我聞之於昔誥，功彌高而身蹙。霍芒刺而幸免，卒傾宗而滅族。周嘆貴於獄吏，終下蕃而靡鞠。雖明德之大賢，亦不免於殘戮。懷今憚而忍人，忘向惠而莫復。績無賞而震主，將何方以自牧。非砏石之圜照，孰違禍以取福。著殷鑑於自古，豈獨嘆於季叔。能安親而揚名，諒見稱於先哲。保歸全而終孝，傷在余而皆缺。辱歷世之平素，忽盛滿而傾滅。惟烝嘗與灑掃，痛一朝而永絕。問其誰而為之，實孤人之險戾。罪有踰於丘山，雖百死其何雪。\n",
      "羈角偃兮衡閭，親朋交兮平義。雖履尚兮不一，隆分好兮情寄。俱憚耕兮從祿，覩世道兮艱詖。規志局兮功名，每謂之兮為易。今定諡兮闔棺，慚明智兮昔議。雖待盡兮為恥，嗟厚顏兮靡置。長揖兮數子，謝爾兮明智。百齡兮浮促，終焉兮斟克。臥盡兮斧斤，理命兮同得。世安彼兮非此，豈曉分兮辨惑。御莊生之達言，請承風以為則。\n",
      "\n",
      "周超既降，<person>到彥之</person>以參府事，<person>劉粹</person>遣<office>參軍</office><person>沈敞之</person>告<person id='到彥之'>彥之</person>沙橋之敗，事由周超，<person id='到彥之'>彥之</person>乃執之。先繫㬭等，猶未即戮，於是與<person id='謝晦'>晦</person>、<person id='謝遯'>遯</person>、兄子世<person id='王基'>基</person>、世猷及同黨<person>孔延秀</person>、周超、費愔、竇應期、蔣虔、嚴千斯等並伏誅。世<person id='王基'>基</person>，絢之子也，有才氣。臨死為連句詩曰：「偉哉橫海鱗，壯矣垂天翼。一旦失風水，翻為螻蟻食。」<person id='謝晦'>晦</person>續之曰：「功遂侔昔人，保退無智力。既涉<place>太行</place>險，斯路信難陟。」<person id='謝晦'>晦</person>死時，年三十七。<person>庾登之</person>、<person>殷道鸞</person>、<person>何承天</person>並皆原免。\n",
      "------------------------------------------------------------\n",
      "731\n",
      "史／正史／宋書／列傳　凡六十卷／卷六十三　列傳第二十三／沈演之　父叔任／子睦　勃　統\n",
      "<person id='沈演之'>演之</person>子<person id='沈睦'>睦</person>，至<office>黃門郎</office>，通直<office>散騎常侍</office>。世祖大明初，坐要引上左右俞欣之訪評殿省內事，又與弟<office>西陽王</office><office>文學</office><person id='沈勃'>勃</person>忿䦧不<person id='沈睦'>睦</person>，坐徙<place>始興郡</place>，<person id='沈勃'>勃</person>免官禁錮。\n",
      "\n",
      "<person id='沈勃'>勃</person>好為文章，善彈琴，能圍棊，而輕薄逐利。歷<office>尚書</office><office>殿中郎</office>。太宗泰始中，為<office>太子右衞率</office>，加<office>給事中</office>。時欲北討，使<person id='沈勃'>勃</person>還鄉里募人，多受貨賄。上怒，下詔曰：「<person>沈勃</person>琴書藝業，口有美稱，而輕躁耽酒，幼多罪愆。比奢淫過度，妓女數十，聲酣放縱，無復劑限。自恃<place>吳興</place>土豪，比門義故，脅說士庶，告索無已。又輒聽募將，委役還私，託注病叛，遂有數百。周旋門生，競受財貨，少者至萬，多者千金，考計贓物，二百餘萬，便宜明罰敕法，以正典刑。故<office>光祿大夫</office><person id='沈演之'>演之</person>昔受深遇，忠績在朝，尋遠矜懷，能無弘律，可徙<person id='沈勃'>勃</person>西垂，令一思愆悔。」於是徙付<place>梁州</place>。廢帝<person>元徽</person>初，以例得還。結事<person>阮佃夫</person>、<person>王道隆</person>等，復為<office>司徒</office>左<office>長史</office>。為廢帝所誅。順帝即位，追贈本官。\n",
      "\n",
      "<person id='沈勃'>勃</person>弟<person id='沈統'>統</person>，大明中為<office>著作佐郎</office>。先是，五省官所給幹僮，不得雜役，太祖世，坐以免官者，前後百人。<person id='沈統'>統</person>輕役過差，有司奏免。世祖詔曰：「自頃幹僮，多不祗給，主可量聽行杖。」得行幹杖，自此始也。\n",
      "------------------------------------------------------------\n"
     ]
    }
   ],
   "source": [
    "for fileno in [609, 731]: #VALID_BIO_FILENOS[]:\n",
    "    print(fileno)\n",
    "    print(fr\"{songshu.paths_cleaned[fileno]}\")\n",
    "    print(songshu.tag(fileno))\n",
    "    print('-'*60)"
   ]
  },
  {
   "cell_type": "code",
   "execution_count": null,
   "metadata": {},
   "outputs": [],
   "source": []
  }
 ],
 "metadata": {
  "kernelspec": {
   "display_name": "Python 3",
   "language": "python",
   "name": "python3"
  },
  "language_info": {
   "codemirror_mode": {
    "name": "ipython",
    "version": 3
   },
   "file_extension": ".py",
   "mimetype": "text/x-python",
   "name": "python",
   "nbconvert_exporter": "python",
   "pygments_lexer": "ipython3",
   "version": "3.6.8"
  }
 },
 "nbformat": 4,
 "nbformat_minor": 4
}

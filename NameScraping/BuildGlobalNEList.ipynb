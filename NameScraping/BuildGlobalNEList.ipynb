{
 "cells": [
  {
   "cell_type": "code",
   "execution_count": null,
   "metadata": {},
   "outputs": [],
   "source": [
    "import os"
   ]
  },
  {
   "cell_type": "code",
   "execution_count": null,
   "metadata": {},
   "outputs": [],
   "source": [
    "def randstr(length=36):\n",
    "    '''\n",
    "    Generate a random alphanumeric string of length 'length'\n",
    "    '''\n",
    "    return ''.join(random.choice(alphabet) for i in range(length))"
   ]
  },
  {
   "cell_type": "code",
   "execution_count": null,
   "metadata": {},
   "outputs": [],
   "source": [
    "import hashlib\n",
    "def hashstr(txt, hash_func=hashlib.md5):\n",
    "    '''\n",
    "    Generate a hash hex string from string 'txt' using the hash function 'hash_func'\n",
    "    '''\n",
    "    return hash_func(txt.encode()).hexdigest()"
   ]
  },
  {
   "cell_type": "code",
   "execution_count": null,
   "metadata": {},
   "outputs": [],
   "source": [
    "# Create look-up dictionaries\n",
    "\n",
    "NE = {} # named entity dictionary\n",
    "CAT = {} # category of named entity\n",
    "fni = './NE.txt'\n",
    "cnt = 0\n",
    "with open(fni, 'r', encoding='utf-8') as fi:\n",
    "    for line in fi:\n",
    "        cnt += 1\n",
    "        (s, category) = (None, None)\n",
    "        try:\n",
    "            (s, category) = line.strip().split()\n",
    "        except:\n",
    "            print(f\"problem: {s}\")\n",
    "            pass\n",
    "        if s in NE:\n",
    "            print(f\"repeated: {s}\")\n",
    "        else:\n",
    "            NE[s] = hashstr(s)\n",
    "            CAT[s] = category\n",
    "\n"
   ]
  },
  {
   "cell_type": "code",
   "execution_count": null,
   "metadata": {},
   "outputs": [],
   "source": [
    "NE_Sorted = [(k, NE[k]) for k in sorted(NE, key=len, reverse=True)]\n"
   ]
  },
  {
   "cell_type": "code",
   "execution_count": null,
   "metadata": {},
   "outputs": [],
   "source": [
    "fno = 'NE_randstr.txt'\n",
    "if os.path.isfile(fno):\n",
    "    print(f\"File '{fno}' already exists!!\")\n",
    "else:\n",
    "    fo  = open(fno, 'w', encoding='utf-8', newline='\\n') \n",
    "    for (s, rstr) in NE_Sorted:\n",
    "        fo.write(f\"{s}\\t{CAT[s]}\\t{rstr}\\n\")\n",
    "    fo.close()"
   ]
  }
 ],
 "metadata": {
  "kernelspec": {
   "display_name": "Python 3",
   "language": "python",
   "name": "python3"
  },
  "language_info": {
   "codemirror_mode": {
    "name": "ipython",
    "version": 3
   },
   "file_extension": ".py",
   "mimetype": "text/x-python",
   "name": "python",
   "nbconvert_exporter": "python",
   "pygments_lexer": "ipython3",
   "version": "3.6.8"
  }
 },
 "nbformat": 4,
 "nbformat_minor": 4
}
